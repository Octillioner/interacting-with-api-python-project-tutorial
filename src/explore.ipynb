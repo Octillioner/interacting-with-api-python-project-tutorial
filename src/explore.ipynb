{
    "cells": [
        {
            "cell_type": "markdown",
            "metadata": {},
            "source": [
                "# Spotify tutorial\n"
            ]
        },
        {
            "cell_type": "code",
            "execution_count": 1,
            "metadata": {},
            "outputs": [
                {
                    "name": "stdout",
                    "output_type": "stream",
                    "text": [
                        "hello\n"
                    ]
                }
            ],
            "source": [
                "#import libraries\n",
                "\n",
                "import os\n",
                "from sqlalchemy import create_engine\n",
                "import pandas as pd\n",
                "import seaborn as sns\n",
                "from dotenv import load_dotenv\n",
                "import spotipy\n",
                "from spotipy.oauth2 import SpotifyClientCredentials"
            ]
        },
        {
            "cell_type": "code",
            "execution_count": null,
            "metadata": {},
            "outputs": [],
            "source": [
                "# load .env\n",
                "load_dotenv()\n",
                "c_id = os.environ.get('CLIENT_ID')\n",
                "c_secret = os.environ.get('CLIENT_SECRET')"
            ]
        },
        {
            "cell_type": "code",
            "execution_count": null,
            "metadata": {},
            "outputs": [],
            "source": [
                "# Connect with API\n",
                "con = spotipy.Spotify(auth_manager = SpotifyClientCredentials(client_id = c_id, client_secret = c_secret))\n"
            ]
        },
        {
            "cell_type": "code",
            "execution_count": null,
            "metadata": {},
            "outputs": [],
            "source": [
                "# in this case I chose Queen. Looking for their 10 best songs\n",
                "\n",
                "art_id = '1dfeR4HaWDbWqFHLkxsg1d' \n",
                "response = sp.artist_top_tracks(\"1dfeR4HaWDbWqFHLkxsg1d\")\n",
                "if response:\n",
                "  # We keep the \"tracks\" object of the answer\n",
                "  tracks = response[\"tracks\"]\n",
                "  # We select, for each song, the data we are interested in and discard the rest\n",
                "  tracks = [{k: (v/(1000*60))%60 if k == \"duration_ms\" else v for k, v in track.items() if k in [\"name\", \"popularity\", \"duration_ms\"]} for track in tracks]\n"
            ]
        },
        {
            "cell_type": "code",
            "execution_count": null,
            "metadata": {},
            "outputs": [],
            "source": [
                "# creating the dataframe of our tracks\n",
                "\n",
                "tracks_df = pd.DataFrame.from_records(tracks)\n",
                "tracks_df.sort_values([\"popularity\"], inplace = True)\n",
                "\n",
                "print(tracks_df.head(3))"
            ]
        },
        {
            "cell_type": "code",
            "execution_count": null,
            "metadata": {},
            "outputs": [],
            "source": [
                "#deploying a scatterplot with these two variables\n",
                "scatter_plot = sns.scatterplot(data = tracks_df, x = \"popularity\", y = \"duration_ms\")\n",
                "fig = scatter_plot.get_figure()\n",
                "fig.savefig(\"scatter_plot.png\")"
            ]
        }
    ],
    "metadata": {
        "kernelspec": {
            "display_name": "Python 3.8.13 64-bit ('3.8.13')",
            "language": "python",
            "name": "python3"
        },
        "language_info": {
            "codemirror_mode": {
                "name": "ipython",
                "version": 3
            },
            "file_extension": ".py",
            "mimetype": "text/x-python",
            "name": "python",
            "nbconvert_exporter": "python",
            "pygments_lexer": "ipython3",
            "version": "3.11.4"
        },
        "orig_nbformat": 4,
        "vscode": {
            "interpreter": {
                "hash": "110cc1dee26208153f2972f08a2ad52b6a56238dc66d48e87fb757ef2996db56"
            }
        }
    },
    "nbformat": 4,
    "nbformat_minor": 2
}
